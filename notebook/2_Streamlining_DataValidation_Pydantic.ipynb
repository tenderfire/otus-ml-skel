{
  "cells": [
    {
      "cell_type": "code",
      "execution_count": 1,
      "metadata": {
        "colab": {
          "base_uri": "https://localhost:8080/"
        },
        "id": "IvtCUJWfKvQs",
        "outputId": "9154f08b-c80a-42f9-8b81-99528797b458"
      },
      "outputs": [
        {
          "name": "stdout",
          "output_type": "stream",
          "text": [
            "\u001b[1;31merror\u001b[0m: \u001b[1mexternally-managed-environment\u001b[0m\n",
            "\n",
            "\u001b[31m×\u001b[0m This environment is externally managed\n",
            "\u001b[31m╰─>\u001b[0m To install Python packages system-wide, try apt install\n",
            "\u001b[31m   \u001b[0m python3-xyz, where xyz is the package you are trying to\n",
            "\u001b[31m   \u001b[0m install.\n",
            "\u001b[31m   \u001b[0m \n",
            "\u001b[31m   \u001b[0m If you wish to install a non-Debian-packaged Python package,\n",
            "\u001b[31m   \u001b[0m create a virtual environment using python3 -m venv path/to/venv.\n",
            "\u001b[31m   \u001b[0m Then use path/to/venv/bin/python and path/to/venv/bin/pip. Make\n",
            "\u001b[31m   \u001b[0m sure you have python3-full installed.\n",
            "\u001b[31m   \u001b[0m \n",
            "\u001b[31m   \u001b[0m If you wish to install a non-Debian packaged Python application,\n",
            "\u001b[31m   \u001b[0m it may be easiest to use pipx install xyz, which will manage a\n",
            "\u001b[31m   \u001b[0m virtual environment for you. Make sure you have pipx installed.\n",
            "\u001b[31m   \u001b[0m \n",
            "\u001b[31m   \u001b[0m See /usr/share/doc/python3.12/README.venv for more information.\n",
            "\n",
            "\u001b[1;35mnote\u001b[0m: If you believe this is a mistake, please contact your Python installation or OS distribution provider. You can override this, at the risk of breaking your Python installation or OS, by passing --break-system-packages.\n",
            "\u001b[1;36mhint\u001b[0m: See PEP 668 for the detailed specification.\n"
          ]
        }
      ],
      "source": [
        "!pip install pydantic[email]"
      ]
    },
    {
      "cell_type": "code",
      "execution_count": 2,
      "metadata": {
        "id": "_6Q05J5KK6s6"
      },
      "outputs": [],
      "source": [
        "import json\n",
        "import pandas as pd\n",
        "from pydantic import BaseModel, EmailStr, validator, ValidationError"
      ]
    },
    {
      "cell_type": "markdown",
      "metadata": {
        "id": "1JkDIcwLO-bv"
      },
      "source": [
        "[Отличный Гайд по pydantic для DS-проектов](https://pub.towardsai.net/data-reliability-101-a-practical-guide-to-data-validation-using-pydantic-in-data-science-projects-3392968c3646#acff)"
      ]
    },
    {
      "cell_type": "markdown",
      "metadata": {
        "id": "dK-_9xieLZL9"
      },
      "source": [
        "## Создадим протую модель для валидации карточек сотрудников"
      ]
    },
    {
      "cell_type": "code",
      "execution_count": 8,
      "metadata": {
        "colab": {
          "base_uri": "https://localhost:8080/"
        },
        "id": "fgG3_M4CLhWq",
        "outputId": "27f256b1-2e1a-46bf-83df-d8cbee9e5f1d"
      },
      "outputs": [
        {
          "name": "stderr",
          "output_type": "stream",
          "text": [
            "/tmp/ipykernel_48598/2303925220.py:8: PydanticDeprecatedSince20: Pydantic V1 style `@validator` validators are deprecated. You should migrate to Pydantic V2 style `@field_validator` validators, see the migration guide for more details. Deprecated in Pydantic V2.0 to be removed in V3.0. See Pydantic V2 Migration Guide at https://errors.pydantic.dev/2.11/migration/\n",
            "  @validator(\"employee_id\")\n",
            "/tmp/ipykernel_48598/2303925220.py:14: PydanticDeprecatedSince20: Pydantic V1 style `@validator` validators are deprecated. You should migrate to Pydantic V2 style `@field_validator` validators, see the migration guide for more details. Deprecated in Pydantic V2.0 to be removed in V3.0. See Pydantic V2 Migration Guide at https://errors.pydantic.dev/2.11/migration/\n",
            "  @validator(\"age\")\n"
          ]
        }
      ],
      "source": [
        "class Employee(BaseModel):\n",
        "  name: str\n",
        "  age: int\n",
        "  email: EmailStr\n",
        "  department: str\n",
        "  employee_id: str\n",
        "\n",
        "  @validator(\"employee_id\")\n",
        "  def validate_employee_id(cls, v):\n",
        "      if not v.isalnum() or len(v) != 6:\n",
        "          raise ValueError(\"Employee ID must be exactly 6 alphanumeric characters\")\n",
        "      return v\n",
        "\n",
        "  @validator(\"age\")\n",
        "  def validate_age(cls, v):\n",
        "      if not (18 <= v <= 65):\n",
        "          raise ValueError(\"Age must be between 18 and 65\")\n",
        "      return v"
      ]
    },
    {
      "cell_type": "markdown",
      "metadata": {},
      "source": [
        "## Тестирование валидации возраста"
      ]
    },
    {
      "cell_type": "code",
      "execution_count": 9,
      "metadata": {},
      "outputs": [
        {
          "name": "stdout",
          "output_type": "stream",
          "text": [
            "Тестирование валидации возраста:\n",
            "==================================================\n",
            "✅ Тест 1: Валидный сотрудник - John Doe (возраст: 30)\n",
            "❌ Тест 2: Невалидный сотрудник - Jane Smith (возраст: 17)\n",
            "   Ошибка: Value error, Age must be between 18 and 65\n",
            "❌ Тест 3: Невалидный сотрудник - Bob Johnson (возраст: 70)\n",
            "   Ошибка: Value error, Age must be between 18 and 65\n",
            "✅ Тест 4: Валидный сотрудник - Alice Brown (возраст: 25)\n"
          ]
        }
      ],
      "source": [
        "# Тестируем валидацию возраста\n",
        "test_cases = [\n",
        "    {\"name\": \"John Doe\", \"age\": 30, \"email\": \"john@example.com\", \"department\": \"IT\", \"employee_id\": \"ABC123\"},  # Корректный возраст\n",
        "    {\"name\": \"Jane Smith\", \"age\": 17, \"email\": \"jane@example.com\", \"department\": \"HR\", \"employee_id\": \"XYZ789\"},  # Слишком молодой\n",
        "    {\"name\": \"Bob Johnson\", \"age\": 70, \"email\": \"bob@example.com\", \"department\": \"Finance\", \"employee_id\": \"DEF456\"},  # Слишком старый\n",
        "    {\"name\": \"Alice Brown\", \"age\": 25, \"email\": \"alice@example.com\", \"department\": \"Marketing\", \"employee_id\": \"GHI789\"},  # Корректный возраст\n",
        "]\n",
        "\n",
        "print(\"Тестирование валидации возраста:\")\n",
        "print(\"=\" * 50)\n",
        "\n",
        "for i, record in enumerate(test_cases, 1):\n",
        "    try:\n",
        "        employee = Employee(**record)\n",
        "        print(f\"✅ Тест {i}: Валидный сотрудник - {employee.name} (возраст: {employee.age})\")\n",
        "    except ValidationError as e:\n",
        "        print(f\"❌ Тест {i}: Невалидный сотрудник - {record['name']} (возраст: {record['age']})\")\n",
        "        for error in e.errors():\n",
        "            print(f\"   Ошибка: {error['msg']}\")"
      ]
    },
    {
      "cell_type": "markdown",
      "metadata": {},
      "source": [
        "### Объяснение валидации возраста\n",
        "\n",
        "Валидатор `@validator(\"age\")` проверяет, что возраст сотрудника находится в диапазоне от 18 до 65 лет включительно. Это предотвращает создание записей с нереалистичными значениями возраста.\n",
        "\n",
        "**Логика валидации:**\n",
        "- Минимальный возраст: 18 лет (сотрудники должны быть совершеннолетними)\n",
        "- Максимальный возраст: 65 лет (типичный пенсионный возраст)\n",
        "\n",
        "Если возраст выходит за эти границы, будет выброшено исключение `ValidationError` с понятным сообщением об ошибке."
      ]
    },
    {
      "cell_type": "code",
      "execution_count": 11,
      "metadata": {
        "colab": {
          "base_uri": "https://localhost:8080/"
        },
        "id": "i122YxgVOsNW",
        "outputId": "a3a8d721-a675-4e2d-ec73-ab0d83ad9ca2"
      },
      "outputs": [
        {
          "name": "stdout",
          "output_type": "stream",
          "text": [
            "Valid employee record: John Doe\n",
            "Invalid employee record: Jane Smith\n",
            "Errors: [{'type': 'value_error', 'loc': ('age',), 'msg': 'Value error, Age must be between 18 and 65', 'input': 99, 'ctx': {'error': ValueError('Age must be between 18 and 65')}, 'url': 'https://errors.pydantic.dev/2.11/v/value_error'}]\n",
            "Valid employee record: Alice Brown\n",
            "Valid employee record: Dave West\n"
          ]
        }
      ],
      "source": [
        "with open(\"employees.json\", \"r\") as f:\n",
        "    data = json.load(f)\n",
        "\n",
        "# проверить каждого сотрудника\n",
        "for record in data:\n",
        "    try:\n",
        "        employee = Employee(**record)\n",
        "        print(f\"Valid employee record: {employee.name}\")\n",
        "    except ValidationError as e:\n",
        "        print(f\"Invalid employee record: {record['name']}\")\n",
        "        print(f\"Errors: {e.errors()}\")"
      ]
    },
    {
      "cell_type": "code",
      "execution_count": null,
      "metadata": {
        "id": "JKbgsBCRPczr"
      },
      "outputs": [],
      "source": []
    }
  ],
  "metadata": {
    "colab": {
      "provenance": []
    },
    "kernelspec": {
      "display_name": "otus-ml-skel (3.11.13)",
      "language": "python",
      "name": "python3"
    },
    "language_info": {
      "codemirror_mode": {
        "name": "ipython",
        "version": 3
      },
      "file_extension": ".py",
      "mimetype": "text/x-python",
      "name": "python",
      "nbconvert_exporter": "python",
      "pygments_lexer": "ipython3",
      "version": "3.11.13"
    }
  },
  "nbformat": 4,
  "nbformat_minor": 0
}
